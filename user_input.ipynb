{
 "cells": [
  {
   "cell_type": "code",
   "execution_count": 27,
   "metadata": {},
   "outputs": [
    {
     "name": "stdout",
     "output_type": "stream",
     "text": [
      "Hello Adaeze\n",
      "You are 20years old\n",
      "and lives at awka\n"
     ]
    }
   ],
   "source": [
    "name = input('Enter name:')\n",
    "print('Hello' + name)\n",
    "age = (input('Enter age:'))\n",
    "print('You are' + age + 'years old')\n",
    "location = input('Enter location')\n",
    "print('and lives at' + location)\n",
    "\n"
   ]
  }
 ],
 "metadata": {
  "kernelspec": {
   "display_name": "base",
   "language": "python",
   "name": "python3"
  },
  "language_info": {
   "codemirror_mode": {
    "name": "ipython",
    "version": 3
   },
   "file_extension": ".py",
   "mimetype": "text/x-python",
   "name": "python",
   "nbconvert_exporter": "python",
   "pygments_lexer": "ipython3",
   "version": "3.11.5"
  }
 },
 "nbformat": 4,
 "nbformat_minor": 2
}
