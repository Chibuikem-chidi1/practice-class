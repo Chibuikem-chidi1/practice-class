{
 "cells": [
  {
   "cell_type": "code",
   "execution_count": 3,
   "metadata": {},
   "outputs": [
    {
     "name": "stdout",
     "output_type": "stream",
     "text": [
      "()\n"
     ]
    }
   ],
   "source": [
    "#EXERCISE ON TUPLE\n",
    "#LEVEL 1\n",
    "# number 1\n",
    "empty_tuple = ()\n",
    "print(empty_tuple)"
   ]
  },
  {
   "cell_type": "code",
   "execution_count": 2,
   "metadata": {},
   "outputs": [
    {
     "name": "stdout",
     "output_type": "stream",
     "text": [
      "('chizaram', 'divine', 'george', 'tobechukwu')\n",
      "('grace', 'ebere', 'onyinye', 'ngozi')\n"
     ]
    }
   ],
   "source": [
    "#number 2\n",
    "brother = ('chizaram', 'divine', 'george', 'tobechukwu')\n",
    "sister = ('grace', 'ebere', 'onyinye', 'ngozi')\n",
    "print(brother)\n",
    "print(sister)"
   ]
  },
  {
   "cell_type": "code",
   "execution_count": 4,
   "metadata": {},
   "outputs": [
    {
     "name": "stdout",
     "output_type": "stream",
     "text": [
      "('chizaram', 'divine', 'george', 'tobechukwu', 'grace', 'ebere', 'onyinye', 'ngozi')\n"
     ]
    }
   ],
   "source": [
    "#number 3\n",
    "brother = ('chizaram', 'divine', 'george', 'tobechukwu')\n",
    "sister = ('grace', 'ebere', 'onyinye', 'ngozi')\n",
    "siblings = brother + sister\n",
    "print(siblings)"
   ]
  },
  {
   "cell_type": "code",
   "execution_count": 6,
   "metadata": {},
   "outputs": [
    {
     "name": "stdout",
     "output_type": "stream",
     "text": [
      "8\n"
     ]
    }
   ],
   "source": [
    "#number 4\n",
    "brother = ('chizaram', 'divine', 'george', 'tobechukwu')\n",
    "sister = ('grace', 'ebere', 'onyinye', 'ngozi')\n",
    "siblings = brother + sister\n",
    "print(len(siblings))"
   ]
  },
  {
   "cell_type": "code",
   "execution_count": 8,
   "metadata": {},
   "outputs": [
    {
     "name": "stdout",
     "output_type": "stream",
     "text": [
      "('chizaram', 'divine', 'george', 'tobechukwu', 'grace', 'ebere', 'onyinye', 'ngozi', 'charles', 'amaka')\n"
     ]
    }
   ],
   "source": [
    "#number 5\n",
    "brother = ('chizaram', 'divine', 'george', 'tobechukwu')\n",
    "sister = ('grace', 'ebere', 'onyinye', 'ngozi')\n",
    "siblings = brother + sister\n",
    "parents= ('charles', 'amaka')\n",
    "family_name = siblings + parents\n",
    "print(family_name)\n"
   ]
  },
  {
   "cell_type": "code",
   "execution_count": 13,
   "metadata": {},
   "outputs": [
    {
     "name": "stdout",
     "output_type": "stream",
     "text": [
      "('chizaram', 'divine', 'george', 'tobechukwu', 'grace', 'ebere', 'onyinye', 'ngozi')\n",
      "('charles', 'amaka')\n"
     ]
    }
   ],
   "source": [
    "#LEVEL 2\n",
    "#number 1\n",
    "brothers = ('chizaram', 'divine', 'george', 'tobechukwu')\n",
    "sisters = ('grace', 'ebere', 'onyinye', 'ngozi')\n",
    "siblings = brothers + sisters\n",
    "parents= ('charles', 'amaka')\n",
    "family_name = siblings + parents\n",
    "siblings = family_name[0:8]\n",
    "print(siblings)\n",
    "parents = family_name[8:10]\n",
    "print(parents)"
   ]
  },
  {
   "cell_type": "code",
   "execution_count": 16,
   "metadata": {},
   "outputs": [
    {
     "name": "stdout",
     "output_type": "stream",
     "text": [
      "('apple', 'orange', 'lemon', 'grape', 'okro', 'pumpkin', 'scent leaf', 'spinach', 'milk', 'beef', 'pork', 'bacon')\n"
     ]
    }
   ],
   "source": [
    "#number 2\n",
    "fruits = ('apple', 'orange', 'lemon', 'grape')\n",
    "vegetable = ('okro', 'pumpkin', 'scent leaf', 'spinach')\n",
    "animal_products = ('milk', 'beef', 'pork', 'bacon')\n",
    "food_stuff_tp = fruits + vegetable + animal_products\n",
    "print(food_stuff_tp)"
   ]
  },
  {
   "cell_type": "code",
   "execution_count": 17,
   "metadata": {},
   "outputs": [
    {
     "name": "stdout",
     "output_type": "stream",
     "text": [
      "['apple', 'orange', 'lemon', 'grape', 'okro', 'pumpkin', 'scent leaf', 'spinach', 'milk', 'beef', 'pork', 'bacon']\n"
     ]
    }
   ],
   "source": [
    "#number 3\n",
    "fruits = ('apple', 'orange', 'lemon', 'grape')\n",
    "vegetable = ('okro', 'pumpkin', 'scent leaf', 'spinach')\n",
    "animal_products = ('milk', 'beef', 'pork', 'bacon')\n",
    "food_stuff_tp = fruits + vegetable + animal_products\n",
    "food_stuff_lt = list(food_stuff_tp)\n",
    "print(food_stuff_lt)"
   ]
  },
  {
   "cell_type": "code",
   "execution_count": 18,
   "metadata": {},
   "outputs": [
    {
     "name": "stdout",
     "output_type": "stream",
     "text": [
      "('pumpkin', 'scent leaf')\n"
     ]
    }
   ],
   "source": [
    "#number 4\n",
    "fruits = ('apple', 'orange', 'lemon', 'grape')\n",
    "vegetable = ('okro', 'pumpkin', 'scent leaf', 'spinach')\n",
    "animal_products = ('milk', 'beef', 'pork', 'bacon')\n",
    "food_stuff_tp = fruits + vegetable + animal_products\n",
    "middle_item = food_stuff_tp[5:7]\n",
    "print(middle_item)"
   ]
  },
  {
   "cell_type": "code",
   "execution_count": 19,
   "metadata": {},
   "outputs": [
    {
     "name": "stdout",
     "output_type": "stream",
     "text": [
      "['apple', 'orange', 'lemon']\n",
      "['beef', 'pork', 'bacon']\n"
     ]
    }
   ],
   "source": [
    "#number 5\n",
    "fruits = ('apple', 'orange', 'lemon', 'grape')\n",
    "vegetable = ('okro', 'pumpkin', 'scent leaf', 'spinach')\n",
    "animal_products = ('milk', 'beef', 'pork', 'bacon')\n",
    "food_stuff_tp = fruits + vegetable + animal_products\n",
    "food_stuff_lt = list(food_stuff_tp)\n",
    "first_three_items = food_stuff_lt[0:3]\n",
    "print(first_three_items)\n",
    "last_three_items = food_stuff_lt[9:12]\n",
    "print(last_three_items)"
   ]
  },
  {
   "cell_type": "code",
   "execution_count": 21,
   "metadata": {},
   "outputs": [
    {
     "ename": "NameError",
     "evalue": "name 'food_stuff_tp' is not defined",
     "output_type": "error",
     "traceback": [
      "\u001b[1;31m---------------------------------------------------------------------------\u001b[0m",
      "\u001b[1;31mNameError\u001b[0m                                 Traceback (most recent call last)",
      "Cell \u001b[1;32mIn[21], line 7\u001b[0m\n\u001b[0;32m      5\u001b[0m food_stuff_tp \u001b[38;5;241m=\u001b[39m fruits \u001b[38;5;241m+\u001b[39m vegetable \u001b[38;5;241m+\u001b[39m animal_products\n\u001b[0;32m      6\u001b[0m \u001b[38;5;28;01mdel\u001b[39;00m food_stuff_tp\n\u001b[1;32m----> 7\u001b[0m \u001b[38;5;28mprint\u001b[39m(food_stuff_tp)\n",
      "\u001b[1;31mNameError\u001b[0m: name 'food_stuff_tp' is not defined"
     ]
    }
   ],
   "source": [
    "#number 6\n",
    "fruits = ('apple', 'orange', 'lemon', 'grape')\n",
    "vegetable = ('okro', 'pumpkin', 'scent leaf', 'spinach')\n",
    "animal_products = ('milk', 'beef', 'pork', 'bacon')\n",
    "food_stuff_tp = fruits + vegetable + animal_products\n",
    "del food_stuff_tp\n",
    "print(food_stuff_tp)"
   ]
  },
  {
   "cell_type": "code",
   "execution_count": 26,
   "metadata": {},
   "outputs": [
    {
     "name": "stdout",
     "output_type": "stream",
     "text": [
      "False\n",
      "True\n"
     ]
    }
   ],
   "source": [
    "nordic_countries = ('Denmark', 'Finland','Iceland', 'Norway', 'Sweden')\n",
    "print('estonia' in nordic_countries)\n",
    "print('Iceland' in nordic_countries)"
   ]
  },
  {
   "cell_type": "code",
   "execution_count": 3,
   "metadata": {},
   "outputs": [
    {
     "name": "stdout",
     "output_type": "stream",
     "text": [
      "7\n",
      "{'Amazon', 'Twitter', 'Google', 'Apple', 'Oracle', 'IBM', 'Microsoft', 'Facebook'}\n",
      "{'Alibaba', 'IBM', 'Microsoft', 'Facebook', 'SAP', 'Amazon', 'Google', 'Apple', 'Oracle', 'Accenture'}\n",
      "{'Amazon', 'Google', 'Apple', 'Oracle', 'IBM', 'Microsoft'}\n"
     ]
    }
   ],
   "source": [
    "#EXERCISE ON SET\n",
    "#LEVEL 1\n",
    "#number_1\n",
    "it_companies = {'Facebook', 'Google', 'Microsoft', 'Apple', 'IBM', 'Oracle',\n",
    "'Amazon'}\n",
    "A = {19, 22, 24, 20, 25, 26}\n",
    "B = {19, 22, 20, 25, 26, 24, 28, 27}\n",
    "age = [22, 19, 24, 25, 26, 24, 25, 24]\n",
    "\n",
    "print(len(it_companies))\n",
    "\n",
    "#number 2\n",
    "it_companies.add('Twitter')\n",
    "print(it_companies)\n",
    "\n",
    "#number 3\n",
    "it_companies = {'Facebook', 'Google', 'Microsoft', 'Apple', 'IBM', 'Oracle',\n",
    "'Amazon'}\n",
    "New_IT_Companies = {'Accenture', 'SAP', 'Alibaba'}\n",
    "it_companies.update(New_IT_Companies)\n",
    "print(it_companies)\n",
    "\n",
    "#number 4\n",
    "it_companies = {'Facebook', 'Google', 'Microsoft', 'Apple', 'IBM', 'Oracle',\n",
    "'Amazon'}\n",
    "it_companies.remove(\"Facebook\")\n",
    "print(it_companies)\n",
    "\n",
    "#number 5\n",
    "\"\"\"We can remove an item from a set using remove() method. If the item is not found\n",
    "remove() method will raise errors, so it is good to check if the item exist in the given\n",
    "set. However, discard() method doesn't raise any errors.\"\"\"\n",
    "\n"
   ]
  },
  {
   "cell_type": "code",
   "execution_count": 11,
   "metadata": {},
   "outputs": [
    {
     "name": "stdout",
     "output_type": "stream",
     "text": [
      "{19, 20, 22, 24, 25, 26, 27, 28}\n"
     ]
    },
    {
     "data": {
      "text/plain": [
       "{19, 20, 22, 24, 25, 26}"
      ]
     },
     "execution_count": 11,
     "metadata": {},
     "output_type": "execute_result"
    }
   ],
   "source": [
    "#LEVEL 2\n",
    "\n",
    "A = {19, 22, 24, 20, 25, 26}\n",
    "B = {19, 22, 20, 25, 26, 24, 28, 27}\n",
    "\n",
    "#number 1\n",
    "A = {19, 22, 24, 20, 25, 26}\n",
    "B = {19, 22, 20, 25, 26, 24, 28, 27}\n",
    "C = A.union(B)\n",
    "print(C)\n",
    "#number 2\n",
    "A.intersection(B)\n",
    "\n"
   ]
  },
  {
   "cell_type": "code",
   "execution_count": 14,
   "metadata": {},
   "outputs": [
    {
     "data": {
      "text/plain": [
       "True"
      ]
     },
     "execution_count": 14,
     "metadata": {},
     "output_type": "execute_result"
    }
   ],
   "source": [
    "#number 3\n",
    "A = {19, 22, 24, 20, 25, 26}\n",
    "B = {19, 22, 20, 25, 26, 24, 28, 27}\n",
    "A.issubset(B)\n",
    "\n"
   ]
  },
  {
   "cell_type": "code",
   "execution_count": 15,
   "metadata": {},
   "outputs": [
    {
     "data": {
      "text/plain": [
       "False"
      ]
     },
     "execution_count": 15,
     "metadata": {},
     "output_type": "execute_result"
    }
   ],
   "source": [
    "A = {19, 22, 24, 20, 25, 26}\n",
    "B = {19, 22, 20, 25, 26, 24, 28, 27}\n",
    "A.issubset(B)\n",
    "\n",
    "#NUMBER 4\n",
    "B.isdisjoint(A)"
   ]
  },
  {
   "cell_type": "code",
   "execution_count": 20,
   "metadata": {},
   "outputs": [
    {
     "name": "stdout",
     "output_type": "stream",
     "text": [
      "{19, 20, 22, 24, 25, 26, 27, 28}\n",
      "{19, 20, 22, 24, 25, 26, 27, 28}\n"
     ]
    }
   ],
   "source": [
    "#number 5\n",
    "A = {19, 22, 24, 20, 25, 26}\n",
    "B = {19, 22, 20, 25, 26, 24, 28, 27}\n",
    "C = A.union(B)\n",
    "print(C)\n",
    "A = {19, 22, 24, 20, 25, 26}\n",
    "B = {19, 22, 20, 25, 26, 24, 28, 27}\n",
    "D = B.union(A)\n",
    "print(D)"
   ]
  },
  {
   "cell_type": "code",
   "execution_count": 21,
   "metadata": {},
   "outputs": [
    {
     "data": {
      "text/plain": [
       "{27, 28}"
      ]
     },
     "execution_count": 21,
     "metadata": {},
     "output_type": "execute_result"
    }
   ],
   "source": [
    "#number 6\n",
    "A = {19, 22, 24, 20, 25, 26}\n",
    "B = {19, 22, 20, 25, 26, 24, 28, 27}\n",
    "A.symmetric_difference(B)"
   ]
  },
  {
   "cell_type": "code",
   "execution_count": 25,
   "metadata": {},
   "outputs": [],
   "source": [
    "#NUMBER 7\n",
    "A = {19, 22, 24, 20, 25, 26}\n",
    "B = {19, 22, 20, 25, 26, 24, 28, 27}\n",
    "del A\n"
   ]
  },
  {
   "cell_type": "code",
   "execution_count": 23,
   "metadata": {},
   "outputs": [],
   "source": [
    "#NUMBER 7\n",
    "A = {19, 22, 24, 20, 25, 26}\n",
    "B = {19, 22, 20, 25, 26, 24, 28, 27}\n",
    "del B"
   ]
  },
  {
   "cell_type": "code",
   "execution_count": 30,
   "metadata": {},
   "outputs": [
    {
     "name": "stdout",
     "output_type": "stream",
     "text": [
      "{19, 22, 24, 25, 26}\n",
      "5\n",
      "8\n"
     ]
    }
   ],
   "source": [
    "#LEVEL 3\n",
    "#number 1\n",
    "age = [22, 19, 24, 25, 26, 24, 25, 24]\n",
    "ages = set(age)\n",
    "print(ages)\n",
    "print(len(ages))\n",
    "print(len(age))\n"
   ]
  },
  {
   "cell_type": "code",
   "execution_count": null,
   "metadata": {},
   "outputs": [],
   "source": [
    "#number 2\n",
    "\"\"\"A. Set is a collection of items.Set is a collection of unordered and un-indexed distinct elements. In Python set is used\n",
    "to store unique items, and it is possible to find the union, intersection, difference,\n",
    "symmetric difference, subset, super set and disjoint set among sets.\"\"\"\n",
    "\"\"\"B. A tuple is a collection of different data types which is ordered and unchangeable\n",
    "(immutable). Tuples are written with round brackets, (). \"\"\"\n",
    "C. list are used to store multiple variables in a single variable.it is ordered,changeable amd allows duplicate values\n",
    "D. String are values assigned to variables.it has a quotation mark above any word or number.\n"
   ]
  },
  {
   "cell_type": "code",
   "execution_count": 34,
   "metadata": {},
   "outputs": [
    {
     "name": "stdout",
     "output_type": "stream",
     "text": [
      "['I am a teacherandI love to inspireandteach people']\n"
     ]
    }
   ],
   "source": [
    "unique_words = [\"I am a teacher\" \"and\" \"I love to inspire\" \"and\" \"teach people\"]\n",
    "len(unique_words)\n",
    "print(unique_words)"
   ]
  }
 ],
 "metadata": {
  "kernelspec": {
   "display_name": "base",
   "language": "python",
   "name": "python3"
  },
  "language_info": {
   "codemirror_mode": {
    "name": "ipython",
    "version": 3
   },
   "file_extension": ".py",
   "mimetype": "text/x-python",
   "name": "python",
   "nbconvert_exporter": "python",
   "pygments_lexer": "ipython3",
   "version": "3.11.5"
  }
 },
 "nbformat": 4,
 "nbformat_minor": 2
}
